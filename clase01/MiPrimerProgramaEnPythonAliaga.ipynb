{
  "nbformat": 4,
  "nbformat_minor": 0,
  "metadata": {
    "colab": {
      "name": "MiPrimerProgramaEnPythonAliaga.ipynb",
      "provenance": [],
      "authorship_tag": "ABX9TyMoSVq5+/POdW+78AmxHvFo",
      "include_colab_link": true
    },
    "kernelspec": {
      "name": "python3",
      "display_name": "Python 3"
    },
    "language_info": {
      "name": "python"
    }
  },
  "cells": [
    {
      "cell_type": "markdown",
      "metadata": {
        "id": "view-in-github",
        "colab_type": "text"
      },
      "source": [
        "<a href=\"https://colab.research.google.com/github/jaliagag/22_coderhouse_python_jaliaga/blob/master/MiPrimerProgramaEnPythonAliaga.ipynb\" target=\"_parent\"><img src=\"https://colab.research.google.com/assets/colab-badge.svg\" alt=\"Open In Colab\"/></a>"
      ]
    },
    {
      "cell_type": "code",
      "execution_count": 1,
      "metadata": {
        "colab": {
          "base_uri": "https://localhost:8080/"
        },
        "id": "n5_uocH_pf1S",
        "outputId": "79f73298-f41b-4e82-d4fd-8ae93a5ad33c"
      },
      "outputs": [
        {
          "output_type": "stream",
          "name": "stdout",
          "text": [
            "Ingrese la nota del primer exámen: 75\n",
            "Ingrese la nota del segundo exámen: 93\n",
            "Nota final promedio ponderado: 85.8\n"
          ]
        }
      ],
      "source": [
        "nota_1 = int(input(\"Ingrese la nota del primer exámen: \"))\n",
        "nota_2 = int(input(\"Ingrese la nota del segundo exámen: \"))\n",
        "\n",
        "promedio_ponderado = (nota_1 * 0.4 + nota_2 * 0.6) / 1\n",
        "\n",
        "print(\"Nota final promedio ponderado:\", promedio_ponderado)"
      ]
    },
    {
      "cell_type": "code",
      "source": [
        "nota_1 = int(input(\"Ingrese la nota del primer exámen: \"))\n",
        "nota_2 = int(input(\"Ingrese la nota del segundo exámen: \"))\n",
        "\n",
        "promedio_ponderado = (nota_1 * 0.4 + nota_2 * 0.6) / 1\n",
        "\n",
        "print(\"Nota final promedio ponderado:\", promedio_ponderado)"
      ],
      "metadata": {
        "colab": {
          "base_uri": "https://localhost:8080/"
        },
        "id": "PMrpxAWnpu_y",
        "outputId": "374819a3-f1af-4fb1-8e8d-3fbc85d7f031"
      },
      "execution_count": 2,
      "outputs": [
        {
          "output_type": "stream",
          "name": "stdout",
          "text": [
            "Ingrese la nota del primer exámen: 7\n",
            "Ingrese la nota del segundo exámen: 8\n",
            "Nota final promedio ponderado: 7.6\n"
          ]
        }
      ]
    }
  ]
}