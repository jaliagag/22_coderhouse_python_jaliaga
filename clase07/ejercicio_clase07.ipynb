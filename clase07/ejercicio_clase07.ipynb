{
  "nbformat": 4,
  "nbformat_minor": 0,
  "metadata": {
    "colab": {
      "name": "ejercicio_clase07.ipynb",
      "provenance": [],
      "authorship_tag": "ABX9TyMwx+zRSE9NRw7CnX+v8O6I",
      "include_colab_link": true
    },
    "kernelspec": {
      "name": "python3",
      "display_name": "Python 3"
    },
    "language_info": {
      "name": "python"
    }
  },
  "cells": [
    {
      "cell_type": "markdown",
      "metadata": {
        "id": "view-in-github",
        "colab_type": "text"
      },
      "source": [
        "<a href=\"https://colab.research.google.com/github/jaliagag/22_coderhouse_python_jaliaga/blob/master/ejercicio_clase07.ipynb\" target=\"_parent\"><img src=\"https://colab.research.google.com/assets/colab-badge.svg\" alt=\"Open In Colab\"/></a>"
      ]
    },
    {
      "cell_type": "code",
      "execution_count": 1,
      "metadata": {
        "colab": {
          "base_uri": "https://localhost:8080/"
        },
        "id": "InR1KAecruvl",
        "outputId": "4b908369-19e8-4506-a062-d3acf3c407b8"
      },
      "outputs": [
        {
          "output_type": "stream",
          "name": "stdout",
          "text": [
            "Gordon lanzó su curva...\n",
            "- Strawberry ha fallado por un pie! -gritó Joe Castiglione.\n",
            "- Dos pies -le corrigió Troop.\n",
            "- Strawberry menea la cabeza como disgustado… -agrega el comentarista.\n"
          ]
        }
      ],
      "source": [
        "text = \"gordon lanzó su curva&strawberry ha fallado por un pie! -gritó Joe Castiglione&dos pies -le corrigió Troop&strawberry menea la cabeza como disgustado… -agrega el comentarista\"\n",
        "temp = []\n",
        "final = []\n",
        "a = text.split('&')\n",
        "\n",
        "# capitalize\n",
        "for i in a:\n",
        "    b = i.capitalize()\n",
        "    final.append(b)\n",
        "\n",
        "# add dots\n",
        "for i in range(len(final)):\n",
        "    if i == 0:\n",
        "        b = final[i].split()\n",
        "        b.append('...')\n",
        "    else:\n",
        "        b = final[i].split()\n",
        "        b.append('.')\n",
        "        b.insert(0,'-')\n",
        "    temp.append(b)\n",
        "\n",
        "# clear final\n",
        "final.clear()\n",
        "\n",
        "# recreate list\n",
        "for i in range(len(temp)):\n",
        "    # remove whitespace between final word and dot/s\n",
        "    a = temp[i][-2], temp[i][-1]\n",
        "    b = ''.join(a)\n",
        "    temp[i].remove(temp[i][-1])\n",
        "    temp[i].remove(temp[i][-1])\n",
        "    temp[i].append(b)\n",
        "\n",
        "    # actually recreate list\n",
        "    final.append(' '.join(temp[i]))\n",
        "\n",
        "\n",
        "# use title on given names\n",
        "names = ['joe castiglione','troop']\n",
        "for i in final:\n",
        "    if names[0] in i:\n",
        "        loc = final.index(i)\n",
        "        a = i.replace(names[0],names[0].title())\n",
        "        final.remove(i)\n",
        "        final.insert(loc,a)\n",
        "    elif names[1] in i:\n",
        "        loc = final.index(i)\n",
        "        a = i.replace(names[1],names[1].title())\n",
        "        final.remove(i)\n",
        "        final.insert(loc,a)\n",
        "\n",
        "# final print\n",
        "for i in final:\n",
        "    print(i)"
      ]
    }
  ]
}